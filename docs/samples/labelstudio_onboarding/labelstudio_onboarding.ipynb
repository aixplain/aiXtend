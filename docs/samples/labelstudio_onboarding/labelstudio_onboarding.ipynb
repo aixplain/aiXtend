{
  "cells": [
    {
      "cell_type": "markdown",
      "id": "16176d5f",
      "metadata": {
        "id": "16176d5f"
      },
      "source": [
        "# Label Studio Corpus Onboarding\n",
        "\n",
        "This notebook demonstrates how to onboard tasks or projects from Label Studio onto aiXplain platform as a corpus."
      ]
    },
    {
      "cell_type": "markdown",
      "id": "b502391b",
      "metadata": {
        "id": "b502391b"
      },
      "source": [
        "## Label Studio Data\n",
        "\n",
        "Label Studio platform contains different projects that vary based on Label Studio authentication API key used. Each project contains multiple tasks that could be in different data types. This method handles all audio and text data for both tasks and projects on Label Studio. All you need is Label Studio task ID or project ID, and the corresponding Label Studio authentication API key.\n",
        "\n",
        "### Label Studio Authentication API key\n",
        "\n",
        "To get your Label Studio API key, log-in to Label Studio, head to this [link](https://label.aixplain.com/user/account), and you'll find your API key under the Access Token field.\n",
        "\n",
        "### Task or project ID\n",
        "\n",
        "In order to get the task ID or project ID of the data you want to onboard, navigate to the desired project from [Label Studio Homepage](https://label.aixplain.com/), and the project ID should be in the format:\n",
        "\n",
        "`https://label.aixplain.com/projects/PROJECT_ID/...`\n",
        "\n",
        "When you open any task in the project, the task ID should be in the format:\n",
        "\n",
        "`https://label.aixplain.com/projects/PROJECT_ID/...&task=TASK_ID`"
      ]
    },
    {
      "cell_type": "markdown",
      "id": "cb8b7112",
      "metadata": {
        "id": "cb8b7112"
      },
      "source": [
        "## API Keys\n",
        "\n",
        "Add aiXplain `TEAM_API_KEY` as an environment variable in your system. For details refer to [Team API Key Guide](https://github.com/aixplain/aiXplain/blob/main/docs/user/api_setup.md).\n",
        "\n",
        "#### Linux or macOS\n",
        "```bash\n",
        "export TEAM_API_KEY=YOUR_API_KEY\n",
        "```\n",
        "#### Windows\n",
        "```bash\n",
        "set TEAM_API_KEY=YOUR_API_KEY\n",
        "```\n",
        "#### Jupyter Notebook\n",
        "```\n",
        "%env TEAM_API_KEY=YOUR_API_KEY\n",
        "```\n",
        "\n",
        "Similarly, add Label Studio `LABELSTUDIO_KEY` an environment variable in your system. Since we're using jupyter notebook here, you can copy and paste your aiXplain `TEAM_API_KEY`, and Label Studio `LABELSTUDIO_KEY` in the cell below."
      ]
    },
    {
      "cell_type": "code",
      "execution_count": null,
      "id": "88a8d200",
      "metadata": {
        "id": "88a8d200"
      },
      "outputs": [],
      "source": [
        "%env TEAM_API_KEY=YOUR_API_KEY\n",
        "%env LABELSTUDIO_KEY=YOUR_LABELSTUDIO_KEY"
      ]
    },
    {
      "cell_type": "markdown",
      "id": "da6a8a4e",
      "metadata": {
        "id": "da6a8a4e"
      },
      "source": [
        "## Libraries\n",
        "\n",
        "Import the necessary libraries to onboard the corpus."
      ]
    },
    {
      "cell_type": "code",
      "execution_count": null,
      "id": "9e478a62",
      "metadata": {
        "id": "9e478a62"
      },
      "outputs": [],
      "source": [
        "from aixplain.factories import LabelStudioFactory, CorpusFactory"
      ]
    },
    {
      "cell_type": "markdown",
      "id": "3211b1db",
      "metadata": {
        "id": "3211b1db"
      },
      "source": [
        "## LabelStudioFactory\n",
        "\n",
        "### LabelStudioFactory.create()\n",
        "\n",
        "The main method in the class is `LabelStudioFactory.create()` which is used to create a Label Studio asset based on the `LabelStudioData` module. It creates an object with the following attributes:\n",
        "\n",
        "- `id` (Text): Label Studio task/project ID.\n",
        "- `name` (Text): CSV file name.\n",
        "- `description` (Text): Description of the Label Studio object.\n",
        "- `dtypes` (Dict): List of data types of each field in the Label Studio object.\n",
        "- `labelstudio_tasks` (Optional[List[Text]]): List of task IDs if the object is a project. Default is None.\n",
        "\n",
        "The `LabelStudioFactory.create()` has various parameters when used to create the Label Studio object. The prarameter description is as follows:\n",
        "\n",
        "- `task_id` (Optional[int]): LabelStudio task ID to be retrieved. Default is None.\n",
        "- `project_id` (Optional[int]): LabelStudio project ID to be retrieved. User must specify either `task_id` or `project_id`, not both, nor None. Default is None.\n",
        "- `columns_to_drop` (Optional[List[str]]): List of column names to drop from the dataset. Default is None.\n"
      ]
    },
    {
      "cell_type": "code",
      "execution_count": null,
      "id": "TdGdFJshVba7",
      "metadata": {
        "id": "TdGdFJshVba7"
      },
      "outputs": [],
      "source": [
        "labelstudio_object = LabelStudioFactory.create(\n",
        "    project_id = 1218\n",
        ")"
      ]
    },
    {
      "cell_type": "markdown",
      "id": "bb4bded9",
      "metadata": {
        "id": "bb4bded9"
      },
      "source": [
        "## Onboard as a Cropus\n",
        "\n",
        "In the last step, we created a `LabelStudioData` instance that has different attributes of the retrieved project/task data from Label Studio, and the name of the CSV file that is used to store the data. We can automatically onboard this asset as a corpus to aiXplain platform using the `LabelStudioData.onboard_as_corpus()` method. \n",
        "\n",
        "First, we need to specify the parameters of `LabelStudioData.onboard_as_corpus()` method. Here's the list of parameters for the function:\n",
        "\n",
        "- `corpus_name` (str): The name of the corpus to be onboarded on the platform.\n",
        "- `language`: (Optional[List[str]]): List of language codes to add to metadata. Default is `None`.\n",
        "- `corpus_description` (Optional[str]): corpus description of the corpus to be onboarded. Default is `None`.\n",
        "\n",
        "For the language selection, the supported languages are:"
      ]
    },
    {
      "cell_type": "code",
      "execution_count": null,
      "id": "82010740",
      "metadata": {
        "collapsed": true,
        "id": "82010740",
        "outputId": "94f4da9f-d3ae-426b-a037-b22f9bae2d8f"
      },
      "outputs": [
        {
          "data": {
            "text/plain": [
              "{'af': 'Afrikaans',\n",
              " 'sq': 'Albanian',\n",
              " 'hy': 'Armenian',\n",
              " 'asm': 'Assamese',\n",
              " 'bn': 'Bangla',\n",
              " 'eu': 'Basque',\n",
              " 'bg': 'Bulgarian',\n",
              " 'ca': 'Catalan',\n",
              " 'ceb': 'Cebuano',\n",
              " 'co': 'Corsican',\n",
              " 'cs': 'Czech',\n",
              " 'dv': 'Divehi',\n",
              " 'eo': 'Esperanto',\n",
              " 'et': 'Estonian',\n",
              " 'fj': 'Fijian',\n",
              " 'fi': 'Finnish',\n",
              " 'de': 'German',\n",
              " 'el': 'Greek',\n",
              " 'ht': 'Haitian',\n",
              " 'ha': 'Hausa',\n",
              " 'haw': 'Hawaiian',\n",
              " 'isl': 'Icelandic',\n",
              " 'ig': 'Igbo',\n",
              " 'id': 'Indonesian',\n",
              " 'iu': 'Inuktitut',\n",
              " 'ga': 'Irish',\n",
              " 'ja': 'Japanese',\n",
              " 'kk': 'Kazakh',\n",
              " 'rw': 'Kinyarwanda',\n",
              " 'tlh': 'Klingon',\n",
              " 'ko': 'Korean',\n",
              " 'ku': 'Kurdish',\n",
              " 'ky': 'Kyrgyz',\n",
              " 'lb': 'Luxembourgish',\n",
              " 'mk': 'Macedonian',\n",
              " 'mt': 'Maltese',\n",
              " 'mi': 'Maori',\n",
              " 'mn': 'Mongolian',\n",
              " 'am': 'Amharic',\n",
              " 'or': 'Odia',\n",
              " 'ro': 'Romanian',\n",
              " 'ar': 'Arabic',\n",
              " 'az': 'Azerbaijani',\n",
              " 'ba': 'Bashkir',\n",
              " 'bs': 'Bosnian',\n",
              " 'be': 'Belarusian',\n",
              " 'my': 'Burmese',\n",
              " 'da': 'Danish',\n",
              " 'ny': 'Nyanja',\n",
              " 'ps': 'Pashto',\n",
              " 'pl': 'Polish',\n",
              " 'pa': 'Punjabi',\n",
              " 'oto': 'Queretaro',\n",
              " 'ru': 'Russian',\n",
              " 'sr': 'Serbian',\n",
              " 'sn': 'Shona',\n",
              " 'sd': 'Sindhi',\n",
              " 'sk': 'Slovak',\n",
              " 'so': 'Somali',\n",
              " 'sw': 'Swahili',\n",
              " 'tl': 'Tagalog',\n",
              " 'ty': 'Tahitian',\n",
              " 'tg': 'Tajik',\n",
              " 'tt': 'Tatar',\n",
              " 'te': 'Telugu',\n",
              " 'bo': 'Tibetan',\n",
              " 'to': 'Tongan',\n",
              " 'tr': 'Turkish',\n",
              " 'uz': 'Uzbek',\n",
              " 'vi': 'Vietnamese',\n",
              " 'cy': 'Welsh',\n",
              " 'xh': 'Xhosa',\n",
              " 'yua': 'Yucatec',\n",
              " 'zu': 'Zulu',\n",
              " 'fa': 'Persian',\n",
              " 'pt': 'Portuguese',\n",
              " 'zh': 'Chinese',\n",
              " 'hr': 'Croatian',\n",
              " 'fil': 'Filipino',\n",
              " 'gu': 'Gujarati',\n",
              " 'hmn': 'Hmong',\n",
              " 'lv': 'Latvian',\n",
              " 'lt': 'Lithuanian',\n",
              " 'ug': 'Uyghur',\n",
              " 'prs': 'Dari',\n",
              " 'nl': 'Dutch',\n",
              " 'en': 'English',\n",
              " 'fr': 'French',\n",
              " 'ka': 'Georgian',\n",
              " 'gl': 'Galician',\n",
              " 'fy': 'Frisian',\n",
              " 'he': 'Hebrew',\n",
              " 'hu': 'Hungarian',\n",
              " 'hi': 'Hindi',\n",
              " 'it': 'Italian',\n",
              " 'kn': 'Kannada',\n",
              " 'jv': 'Javanese',\n",
              " 'km': 'Khmer',\n",
              " 'lo': 'Lao',\n",
              " 'mg': 'Malagasy',\n",
              " 'ms': 'Malay',\n",
              " 'ml': 'Malayalam',\n",
              " 'mr': 'Marathi',\n",
              " 'ne': 'Nepali',\n",
              " 'no': 'Norwegian',\n",
              " 'sm': 'Samoan',\n",
              " 'st': 'Sesotho',\n",
              " 'gd': 'Scots_Gaelic',\n",
              " 'si': 'Sinhala',\n",
              " 'sl': 'Slovenian',\n",
              " 'sv': 'Swedish',\n",
              " 'yo': 'Yoruba',\n",
              " 'es': 'Spanish',\n",
              " 'su': 'Sundanese',\n",
              " 'tk': 'Turkmen',\n",
              " 'ta': 'Tamil',\n",
              " 'th': 'Thai',\n",
              " 'tir': 'Tigrinya',\n",
              " 'ukr': 'Ukrainian',\n",
              " 'yi': 'Yiddish',\n",
              " 'ur': 'Urdu'}"
            ]
          },
          "execution_count": 13,
          "metadata": {},
          "output_type": "execute_result"
        }
      ],
      "source": [
        "langs = {}\n",
        "for l in list(Language):\n",
        "    if l.value['dialect'] == '':\n",
        "        langs[l.value['language']] = l.name\n",
        "\n",
        "langs"
      ]
    },
    {
      "cell_type": "markdown",
      "id": "88bf5585",
      "metadata": {
        "id": "88bf5585"
      },
      "source": [
        "Now, we proceed to specify the parameters."
      ]
    },
    {
      "cell_type": "code",
      "execution_count": null,
      "id": "0d6f9228",
      "metadata": {
        "id": "0d6f9228"
      },
      "outputs": [],
      "source": [
        "# Corpus Name to be Onboarded\n",
        "corpus_name = 'test-6'\n",
        "\n",
        "# Language\n",
        "language = ['ar']\n",
        "\n",
        "# Corpus Description\n",
        "corpus_description = \"This is a sample corpus for testing.\""
      ]
    },
    {
      "cell_type": "markdown",
      "id": "601d00b2",
      "metadata": {
        "id": "601d00b2"
      },
      "source": [
        "The last step is to onboard Label Studio data onto aiXplain platform. This is done by calling `LabelStudioData.onboard_as_corpus()` method using the predifined parameters."
      ]
    },
    {
      "cell_type": "code",
      "execution_count": null,
      "id": "bf9646e5",
      "metadata": {
        "id": "bf9646e5",
        "scrolled": true
      },
      "outputs": [],
      "source": [
        "payload = labelstudio_object.onboard_as_corpus(\n",
        "    corpus_name = corpus_name,\n",
        "    language = language,\n",
        "    corpus_description = corpus_description\n",
        ")\n",
        "\n",
        "print(payload)"
      ]
    },
    {
      "cell_type": "markdown",
      "id": "854f9267",
      "metadata": {
        "id": "854f9267"
      },
      "source": [
        "After it finishes onboarding, you can check the corpus using the `CorpusFactory.get()` method."
      ]
    },
    {
      "cell_type": "code",
      "execution_count": null,
      "id": "fc040caa",
      "metadata": {
        "id": "fc040caa"
      },
      "outputs": [],
      "source": [
        "corpus = CorpusFactory.get(payload[\"asset_id\"])\n",
        "corpus.to_dict()"
      ]
    }
  ],
  "metadata": {
    "colab": {
      "provenance": []
    },
    "kernelspec": {
      "display_name": "Python [conda env:root] *",
      "language": "python",
      "name": "conda-root-py"
    },
    "language_info": {
      "codemirror_mode": {
        "name": "ipython",
        "version": 3
      },
      "file_extension": ".py",
      "mimetype": "text/x-python",
      "name": "python",
      "nbconvert_exporter": "python",
      "pygments_lexer": "ipython3",
      "version": "3.9.13"
    }
  },
  "nbformat": 4,
  "nbformat_minor": 5
}
